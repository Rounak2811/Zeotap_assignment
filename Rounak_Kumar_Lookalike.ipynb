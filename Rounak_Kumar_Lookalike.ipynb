{
 "cells": [
  {
   "cell_type": "code",
   "execution_count": 1,
   "id": "006a1998",
   "metadata": {},
   "outputs": [],
   "source": [
    "import pandas as pd\n",
    "\n",
    "customers = pd.read_csv(\"Customers.csv\")\n",
    "products = pd.read_csv(\"Products.csv\")\n",
    "transactions = pd.read_csv(\"Transactions.csv\")"
   ]
  },
  {
   "cell_type": "code",
   "execution_count": 2,
   "id": "e49f24b4",
   "metadata": {},
   "outputs": [
    {
     "name": "stdout",
     "output_type": "stream",
     "text": [
      "  TransactionID CustomerID ProductID      TransactionDate  Quantity  \\\n",
      "0        T00001      C0199      P067  2024-08-25 12:38:23         1   \n",
      "1        T00112      C0146      P067  2024-05-27 22:23:54         1   \n",
      "2        T00166      C0127      P067  2024-04-25 07:38:55         1   \n",
      "3        T00272      C0087      P067  2024-03-26 22:55:37         2   \n",
      "4        T00363      C0070      P067  2024-03-21 15:10:10         3   \n",
      "\n",
      "   TotalValue  Price_x     CustomerName         Region  SignupDate  \\\n",
      "0      300.68   300.68   Andrea Jenkins         Europe  2022-12-03   \n",
      "1      300.68   300.68  Brittany Harvey           Asia  2024-09-04   \n",
      "2      300.68   300.68  Kathryn Stevens         Europe  2024-04-04   \n",
      "3      601.36   300.68  Travis Campbell  South America  2024-04-11   \n",
      "4      902.04   300.68    Timothy Perez         Europe  2022-03-15   \n",
      "\n",
      "                       ProductName     Category  Price_y  \n",
      "0  ComfortLiving Bluetooth Speaker  Electronics   300.68  \n",
      "1  ComfortLiving Bluetooth Speaker  Electronics   300.68  \n",
      "2  ComfortLiving Bluetooth Speaker  Electronics   300.68  \n",
      "3  ComfortLiving Bluetooth Speaker  Electronics   300.68  \n",
      "4  ComfortLiving Bluetooth Speaker  Electronics   300.68  \n"
     ]
    }
   ],
   "source": [
    "# Merge Transactions with Customers\n",
    "customer_transactions = transactions.merge(customers, on=\"CustomerID\")\n",
    "\n",
    "# Merge again with Products to add category and price information\n",
    "customer_data = customer_transactions.merge(products, on=\"ProductID\")\n",
    "\n",
    "# Display the first few rows to see the combined dataset\n",
    "print(customer_data.head())\n"
   ]
  },
  {
   "cell_type": "code",
   "execution_count": 3,
   "id": "ef6c1a31",
   "metadata": {},
   "outputs": [
    {
     "name": "stdout",
     "output_type": "stream",
     "text": [
      "            TotalSpend  Books  Clothing  Electronics  Home Decor  Region\n",
      "CustomerID                                                              \n",
      "C0001          3354.52    2.0       0.0          7.0         3.0       3\n",
      "C0002          1862.74    0.0       4.0          0.0         6.0       0\n",
      "C0003          2725.38    0.0       4.0          4.0         6.0       3\n",
      "C0004          5354.88    8.0       0.0          6.0         9.0       3\n",
      "C0005          2034.24    0.0       0.0          4.0         3.0       0\n"
     ]
    }
   ],
   "source": [
    "# Calculate total spending per customer\n",
    "customer_spending = customer_data.groupby(\"CustomerID\")[\"TotalValue\"].sum()\n",
    "\n",
    "# Count products purchased per category\n",
    "category_counts = customer_data.pivot_table(\n",
    "    index=\"CustomerID\", columns=\"Category\", values=\"Quantity\", aggfunc=\"sum\", fill_value=0\n",
    ")\n",
    "\n",
    "# Add region information\n",
    "region_info = customers.set_index(\"CustomerID\")[\"Region\"]\n",
    "\n",
    "# Combine all into one DataFrame\n",
    "customer_profile = pd.concat([customer_spending, category_counts, region_info], axis=1)\n",
    "customer_profile.columns = [\"TotalSpend\"] + list(category_counts.columns) + [\"Region\"]\n",
    "\n",
    "# Convert 'Region' into numbers (for similarity calculations)\n",
    "customer_profile[\"Region\"] = customer_profile[\"Region\"].astype(\"category\").cat.codes\n",
    "\n",
    "# Display the customer profile\n",
    "print(customer_profile.head())\n"
   ]
  },
  {
   "cell_type": "code",
   "execution_count": 4,
   "id": "a86a26f4",
   "metadata": {},
   "outputs": [],
   "source": [
    "from sklearn.metrics.pairwise import cosine_similarity\n",
    "\n",
    "# Calculate similarity scores between customers\n",
    "similarity_matrix = cosine_similarity(customer_profile.fillna(0))\n",
    "\n",
    "# Create a DataFrame for similarity matrix\n",
    "similarity_df = pd.DataFrame(similarity_matrix, index=customer_profile.index, columns=customer_profile.index)\n",
    "\n",
    "# Function to get top 3 similar customers for a given customer\n",
    "def get_top_3_similar(customer_id):\n",
    "    similar_scores = similarity_df[customer_id].sort_values(ascending=False)[1:4]  # Skip self (highest similarity = 1)\n",
    "    return list(zip(similar_scores.index, similar_scores.values))\n"
   ]
  },
  {
   "cell_type": "code",
   "execution_count": 5,
   "id": "3c720c89",
   "metadata": {},
   "outputs": [],
   "source": [
    "# Create a dictionary for the top 3 lookalikes\n",
    "lookalike_recommendations = {\n",
    "    customer_id: get_top_3_similar(customer_id) for customer_id in customer_profile.index[:20]\n",
    "}\n",
    "\n",
    "# Convert to a DataFrame for saving\n",
    "lookalike_df = pd.DataFrame(\n",
    "    [\n",
    "        {\"CustomerID\": cust, \"Lookalikes\": str(lookalike_recommendations[cust])}\n",
    "        for cust in lookalike_recommendations\n",
    "    ]\n",
    ")\n",
    "\n",
    "# Save as CSV\n",
    "lookalike_df.to_csv(\"Rounak_Kumar_Lookalike.csv\", index=False)"
   ]
  },
  {
   "cell_type": "code",
   "execution_count": null,
   "id": "a7f7b981",
   "metadata": {},
   "outputs": [],
   "source": []
  }
 ],
 "metadata": {
  "kernelspec": {
   "display_name": "Python 3 (ipykernel)",
   "language": "python",
   "name": "python3"
  },
  "language_info": {
   "codemirror_mode": {
    "name": "ipython",
    "version": 3
   },
   "file_extension": ".py",
   "mimetype": "text/x-python",
   "name": "python",
   "nbconvert_exporter": "python",
   "pygments_lexer": "ipython3",
   "version": "3.9.13"
  }
 },
 "nbformat": 4,
 "nbformat_minor": 5
}
